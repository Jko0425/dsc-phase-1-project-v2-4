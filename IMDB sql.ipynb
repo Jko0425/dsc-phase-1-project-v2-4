{
 "cells": [
  {
   "cell_type": "code",
   "execution_count": 21,
   "id": "14f3a38d",
   "metadata": {},
   "outputs": [],
   "source": [
    "import sqlite3\n",
    "import pandas as pd"
   ]
  },
  {
   "cell_type": "code",
   "execution_count": 2,
   "id": "28ab2d1e",
   "metadata": {},
   "outputs": [
    {
     "name": "stdout",
     "output_type": "stream",
     "text": [
      "C:\\Users\\joshu\\Documents\\Flatiron\\phase1_project\\dsc-phase-1-project-v2-4\\zippedData\n"
     ]
    }
   ],
   "source": [
    "cd zippedData/"
   ]
  },
  {
   "cell_type": "code",
   "execution_count": 3,
   "id": "8cd77f54",
   "metadata": {},
   "outputs": [
    {
     "name": "stdout",
     "output_type": "stream",
     "text": [
      "C:\\Users\\joshu\\Documents\\Flatiron\\phase1_project\\dsc-phase-1-project-v2-4\\zippedData\\im.db\n"
     ]
    }
   ],
   "source": [
    "cd im.db/"
   ]
  },
  {
   "cell_type": "code",
   "execution_count": 4,
   "id": "bbc8ab51",
   "metadata": {},
   "outputs": [],
   "source": [
    "conn = sqlite3.connect('im.db')"
   ]
  },
  {
   "cell_type": "code",
   "execution_count": 5,
   "id": "b571bd6d",
   "metadata": {},
   "outputs": [
    {
     "data": {
      "text/plain": [
       "[('movie_basics',),\n",
       " ('directors',),\n",
       " ('known_for',),\n",
       " ('movie_akas',),\n",
       " ('movie_ratings',),\n",
       " ('persons',),\n",
       " ('principals',),\n",
       " ('writers',)]"
      ]
     },
     "execution_count": 5,
     "metadata": {},
     "output_type": "execute_result"
    }
   ],
   "source": [
    "cur = conn.cursor()\n",
    "cur.execute(\"\"\"SELECT name FROM sqlite_master WHERE type = 'table';\"\"\")\n",
    "\n",
    "table_names = cur.fetchall()\n",
    "table_names"
   ]
  },
  {
   "cell_type": "code",
   "execution_count": 35,
   "id": "930b0147",
   "metadata": {},
   "outputs": [
    {
     "name": "stdout",
     "output_type": "stream",
     "text": [
      "<class 'pandas.core.frame.DataFrame'>\n",
      "RangeIndex: 181387 entries, 0 to 181386\n",
      "Data columns (total 6 columns):\n",
      " #   Column              Non-Null Count   Dtype  \n",
      "---  ------              --------------   -----  \n",
      " 0   primary_name        181387 non-null  object \n",
      " 1   primary_profession  181262 non-null  object \n",
      " 2   primary_title       181387 non-null  object \n",
      " 3   genres              180047 non-null  object \n",
      " 4   averagerating       181387 non-null  float64\n",
      " 5   numvotes            181387 non-null  int64  \n",
      "dtypes: float64(1), int64(1), object(4)\n",
      "memory usage: 8.3+ MB\n"
     ]
    }
   ],
   "source": [
    "directors = pd.read_sql(\"\"\"\n",
    "SELECT primary_name, primary_profession, primary_title, genres, averagerating, numvotes\n",
    "  FROM directors\n",
    "JOIN persons\n",
    "    ON persons.person_id = directors.person_id\n",
    "JOIN movie_basics\n",
    "    ON movie_basics.movie_id = directors.movie_id\n",
    "JOIN movie_ratings\n",
    "    ON movie_ratings.movie_id = directors.movie_id\n",
    "ORDER BY averagerating DESC\n",
    ";\n",
    "\"\"\", conn)\n",
    "directors.info()"
   ]
  },
  {
   "cell_type": "code",
   "execution_count": 36,
   "id": "3e2d71ca",
   "metadata": {},
   "outputs": [
    {
     "data": {
      "text/html": [
       "<div>\n",
       "<style scoped>\n",
       "    .dataframe tbody tr th:only-of-type {\n",
       "        vertical-align: middle;\n",
       "    }\n",
       "\n",
       "    .dataframe tbody tr th {\n",
       "        vertical-align: top;\n",
       "    }\n",
       "\n",
       "    .dataframe thead th {\n",
       "        text-align: right;\n",
       "    }\n",
       "</style>\n",
       "<table border=\"1\" class=\"dataframe\">\n",
       "  <thead>\n",
       "    <tr style=\"text-align: right;\">\n",
       "      <th></th>\n",
       "      <th>primary_name</th>\n",
       "      <th>primary_profession</th>\n",
       "      <th>primary_title</th>\n",
       "      <th>genres</th>\n",
       "      <th>averagerating</th>\n",
       "      <th>numvotes</th>\n",
       "    </tr>\n",
       "  </thead>\n",
       "  <tbody>\n",
       "    <tr>\n",
       "      <th>27563</th>\n",
       "      <td>Steven Spielberg</td>\n",
       "      <td>producer,writer,director</td>\n",
       "      <td>Bridge of Spies</td>\n",
       "      <td>Drama,History,Thriller</td>\n",
       "      <td>7.6</td>\n",
       "      <td>263004</td>\n",
       "    </tr>\n",
       "    <tr>\n",
       "      <th>28368</th>\n",
       "      <td>Steven Spielberg</td>\n",
       "      <td>producer,writer,director</td>\n",
       "      <td>Ready Player One</td>\n",
       "      <td>Action,Adventure,Sci-Fi</td>\n",
       "      <td>7.5</td>\n",
       "      <td>301660</td>\n",
       "    </tr>\n",
       "    <tr>\n",
       "      <th>33637</th>\n",
       "      <td>Steven Spielberg</td>\n",
       "      <td>producer,writer,director</td>\n",
       "      <td>Lincoln</td>\n",
       "      <td>Biography,Drama,History</td>\n",
       "      <td>7.4</td>\n",
       "      <td>228701</td>\n",
       "    </tr>\n",
       "    <tr>\n",
       "      <th>37528</th>\n",
       "      <td>Steven Spielberg</td>\n",
       "      <td>producer,writer,director</td>\n",
       "      <td>The Adventures of Tintin</td>\n",
       "      <td>Action,Adventure,Animation</td>\n",
       "      <td>7.3</td>\n",
       "      <td>202430</td>\n",
       "    </tr>\n",
       "    <tr>\n",
       "      <th>42813</th>\n",
       "      <td>Steven Spielberg</td>\n",
       "      <td>producer,writer,director</td>\n",
       "      <td>War Horse</td>\n",
       "      <td>Drama,History,War</td>\n",
       "      <td>7.2</td>\n",
       "      <td>136447</td>\n",
       "    </tr>\n",
       "    <tr>\n",
       "      <th>43665</th>\n",
       "      <td>Steven Spielberg</td>\n",
       "      <td>producer,writer,director</td>\n",
       "      <td>The Post</td>\n",
       "      <td>Biography,Drama,History</td>\n",
       "      <td>7.2</td>\n",
       "      <td>108017</td>\n",
       "    </tr>\n",
       "    <tr>\n",
       "      <th>87735</th>\n",
       "      <td>Steven Spielberg</td>\n",
       "      <td>producer,writer,director</td>\n",
       "      <td>The BFG</td>\n",
       "      <td>Adventure,Family,Fantasy</td>\n",
       "      <td>6.4</td>\n",
       "      <td>69340</td>\n",
       "    </tr>\n",
       "  </tbody>\n",
       "</table>\n",
       "</div>"
      ],
      "text/plain": [
       "           primary_name        primary_profession             primary_title  \\\n",
       "27563  Steven Spielberg  producer,writer,director           Bridge of Spies   \n",
       "28368  Steven Spielberg  producer,writer,director          Ready Player One   \n",
       "33637  Steven Spielberg  producer,writer,director                   Lincoln   \n",
       "37528  Steven Spielberg  producer,writer,director  The Adventures of Tintin   \n",
       "42813  Steven Spielberg  producer,writer,director                 War Horse   \n",
       "43665  Steven Spielberg  producer,writer,director                  The Post   \n",
       "87735  Steven Spielberg  producer,writer,director                   The BFG   \n",
       "\n",
       "                           genres  averagerating  numvotes  \n",
       "27563      Drama,History,Thriller            7.6    263004  \n",
       "28368     Action,Adventure,Sci-Fi            7.5    301660  \n",
       "33637     Biography,Drama,History            7.4    228701  \n",
       "37528  Action,Adventure,Animation            7.3    202430  \n",
       "42813           Drama,History,War            7.2    136447  \n",
       "43665     Biography,Drama,History            7.2    108017  \n",
       "87735    Adventure,Family,Fantasy            6.4     69340  "
      ]
     },
     "execution_count": 36,
     "metadata": {},
     "output_type": "execute_result"
    }
   ],
   "source": [
    "Spielberg = directors.loc[directors['primary_name'].str.contains('Spielberg')]\n",
    "Spielberg.drop_duplicates(subset=['primary_title'])"
   ]
  },
  {
   "cell_type": "code",
   "execution_count": 37,
   "id": "dad1d0f0",
   "metadata": {},
   "outputs": [
    {
     "name": "stdout",
     "output_type": "stream",
     "text": [
      "<class 'pandas.core.frame.DataFrame'>\n",
      "RangeIndex: 169302 entries, 0 to 169301\n",
      "Data columns (total 6 columns):\n",
      " #   Column              Non-Null Count   Dtype  \n",
      "---  ------              --------------   -----  \n",
      " 0   primary_name        169302 non-null  object \n",
      " 1   primary_profession  169138 non-null  object \n",
      " 2   primary_title       169302 non-null  object \n",
      " 3   genres              168184 non-null  object \n",
      " 4   averagerating       169302 non-null  float64\n",
      " 5   numvotes            169302 non-null  int64  \n",
      "dtypes: float64(1), int64(1), object(4)\n",
      "memory usage: 7.8+ MB\n"
     ]
    }
   ],
   "source": [
    "writers = pd.read_sql(\"\"\"\n",
    "SELECT primary_name, primary_profession, primary_title, genres, averagerating, numvotes\n",
    "  FROM writers\n",
    "JOIN persons\n",
    "    ON persons.person_id = writers.person_id\n",
    "JOIN movie_basics\n",
    "    ON movie_basics.movie_id = writers.movie_id\n",
    "JOIN movie_ratings\n",
    "    ON movie_ratings.movie_id = writers.movie_id\n",
    "ORDER BY averagerating DESC\n",
    ";\n",
    "\"\"\", conn)\n",
    "writers.info()"
   ]
  },
  {
   "cell_type": "code",
   "execution_count": 41,
   "id": "13be9a96",
   "metadata": {},
   "outputs": [
    {
     "data": {
      "text/html": [
       "<div>\n",
       "<style scoped>\n",
       "    .dataframe tbody tr th:only-of-type {\n",
       "        vertical-align: middle;\n",
       "    }\n",
       "\n",
       "    .dataframe tbody tr th {\n",
       "        vertical-align: top;\n",
       "    }\n",
       "\n",
       "    .dataframe thead th {\n",
       "        text-align: right;\n",
       "    }\n",
       "</style>\n",
       "<table border=\"1\" class=\"dataframe\">\n",
       "  <thead>\n",
       "    <tr style=\"text-align: right;\">\n",
       "      <th></th>\n",
       "      <th>primary_name</th>\n",
       "      <th>primary_profession</th>\n",
       "      <th>primary_title</th>\n",
       "      <th>genres</th>\n",
       "      <th>averagerating</th>\n",
       "      <th>numvotes</th>\n",
       "    </tr>\n",
       "  </thead>\n",
       "  <tbody>\n",
       "    <tr>\n",
       "      <th>25</th>\n",
       "      <td>Quentin Tarantino</td>\n",
       "      <td>writer,actor,producer</td>\n",
       "      <td>Once Upon a Time ... in Hollywood</td>\n",
       "      <td>Comedy,Drama</td>\n",
       "      <td>9.7</td>\n",
       "      <td>5600</td>\n",
       "    </tr>\n",
       "    <tr>\n",
       "      <th>3146</th>\n",
       "      <td>Quentin Tarantino</td>\n",
       "      <td>writer,actor,producer</td>\n",
       "      <td>Kill Bill: The Whole Bloody Affair</td>\n",
       "      <td>Action,Crime,Thriller</td>\n",
       "      <td>8.8</td>\n",
       "      <td>3406</td>\n",
       "    </tr>\n",
       "    <tr>\n",
       "      <th>6909</th>\n",
       "      <td>Quentin Tarantino</td>\n",
       "      <td>writer,actor,producer</td>\n",
       "      <td>Django Unchained</td>\n",
       "      <td>Drama,Western</td>\n",
       "      <td>8.4</td>\n",
       "      <td>1211405</td>\n",
       "    </tr>\n",
       "    <tr>\n",
       "      <th>16260</th>\n",
       "      <td>Quentin Tarantino</td>\n",
       "      <td>writer,actor,producer</td>\n",
       "      <td>The Hateful Eight</td>\n",
       "      <td>Crime,Drama,Mystery</td>\n",
       "      <td>7.8</td>\n",
       "      <td>434966</td>\n",
       "    </tr>\n",
       "  </tbody>\n",
       "</table>\n",
       "</div>"
      ],
      "text/plain": [
       "            primary_name     primary_profession  \\\n",
       "25     Quentin Tarantino  writer,actor,producer   \n",
       "3146   Quentin Tarantino  writer,actor,producer   \n",
       "6909   Quentin Tarantino  writer,actor,producer   \n",
       "16260  Quentin Tarantino  writer,actor,producer   \n",
       "\n",
       "                            primary_title                 genres  \\\n",
       "25      Once Upon a Time ... in Hollywood           Comedy,Drama   \n",
       "3146   Kill Bill: The Whole Bloody Affair  Action,Crime,Thriller   \n",
       "6909                     Django Unchained          Drama,Western   \n",
       "16260                   The Hateful Eight    Crime,Drama,Mystery   \n",
       "\n",
       "       averagerating  numvotes  \n",
       "25               9.7      5600  \n",
       "3146             8.8      3406  \n",
       "6909             8.4   1211405  \n",
       "16260            7.8    434966  "
      ]
     },
     "execution_count": 41,
     "metadata": {},
     "output_type": "execute_result"
    }
   ],
   "source": [
    "Quentin = writers.loc[writers['primary_name'].str.contains('Quentin Taran')]\n",
    "Quentin.drop_duplicates(subset=['primary_title'])"
   ]
  },
  {
   "cell_type": "code",
   "execution_count": 42,
   "id": "a346e964",
   "metadata": {},
   "outputs": [
    {
     "name": "stdout",
     "output_type": "stream",
     "text": [
      "<class 'pandas.core.frame.DataFrame'>\n",
      "RangeIndex: 526728 entries, 0 to 526727\n",
      "Data columns (total 6 columns):\n",
      " #   Column              Non-Null Count   Dtype  \n",
      "---  ------              --------------   -----  \n",
      " 0   primary_name        526728 non-null  object \n",
      " 1   primary_profession  506036 non-null  object \n",
      " 2   primary_title       526728 non-null  object \n",
      " 3   genres              523276 non-null  object \n",
      " 4   averagerating       526728 non-null  float64\n",
      " 5   numvotes            526728 non-null  int64  \n",
      "dtypes: float64(1), int64(1), object(4)\n",
      "memory usage: 24.1+ MB\n"
     ]
    }
   ],
   "source": [
    "famousppl = pd.read_sql(\"\"\"\n",
    "SELECT primary_name, primary_profession, primary_title, genres, averagerating, numvotes\n",
    "  FROM known_for\n",
    "JOIN persons\n",
    "    ON persons.person_id = known_for.person_id\n",
    "JOIN movie_basics\n",
    "    ON movie_basics.movie_id = known_for.movie_id\n",
    "JOIN movie_ratings\n",
    "    ON movie_ratings.movie_id = known_for.movie_id\n",
    "ORDER BY averagerating DESC\n",
    ";\n",
    "\"\"\", conn)\n",
    "famousppl.info()"
   ]
  },
  {
   "cell_type": "code",
   "execution_count": 48,
   "id": "222037f9",
   "metadata": {},
   "outputs": [
    {
     "data": {
      "text/html": [
       "<div>\n",
       "<style scoped>\n",
       "    .dataframe tbody tr th:only-of-type {\n",
       "        vertical-align: middle;\n",
       "    }\n",
       "\n",
       "    .dataframe tbody tr th {\n",
       "        vertical-align: top;\n",
       "    }\n",
       "\n",
       "    .dataframe thead th {\n",
       "        text-align: right;\n",
       "    }\n",
       "</style>\n",
       "<table border=\"1\" class=\"dataframe\">\n",
       "  <thead>\n",
       "    <tr style=\"text-align: right;\">\n",
       "      <th></th>\n",
       "      <th>primary_name</th>\n",
       "      <th>primary_profession</th>\n",
       "      <th>primary_title</th>\n",
       "      <th>genres</th>\n",
       "      <th>averagerating</th>\n",
       "      <th>numvotes</th>\n",
       "    </tr>\n",
       "  </thead>\n",
       "  <tbody>\n",
       "    <tr>\n",
       "      <th>89783</th>\n",
       "      <td>Brad Pitt</td>\n",
       "      <td>actor,producer,soundtrack</td>\n",
       "      <td>Moneyball</td>\n",
       "      <td>Biography,Drama,Sport</td>\n",
       "      <td>7.6</td>\n",
       "      <td>326657</td>\n",
       "    </tr>\n",
       "    <tr>\n",
       "      <th>175170</th>\n",
       "      <td>Brad Pitt</td>\n",
       "      <td>actor,producer,soundtrack</td>\n",
       "      <td>World War Z</td>\n",
       "      <td>Action,Adventure,Horror</td>\n",
       "      <td>7.0</td>\n",
       "      <td>553751</td>\n",
       "    </tr>\n",
       "  </tbody>\n",
       "</table>\n",
       "</div>"
      ],
      "text/plain": [
       "       primary_name         primary_profession primary_title  \\\n",
       "89783     Brad Pitt  actor,producer,soundtrack     Moneyball   \n",
       "175170    Brad Pitt  actor,producer,soundtrack   World War Z   \n",
       "\n",
       "                         genres  averagerating  numvotes  \n",
       "89783     Biography,Drama,Sport            7.6    326657  \n",
       "175170  Action,Adventure,Horror            7.0    553751  "
      ]
     },
     "execution_count": 48,
     "metadata": {},
     "output_type": "execute_result"
    }
   ],
   "source": [
    "Brad_Pitt = famousppl.loc[famousppl['primary_name'].str.contains('Brad Pitt')]\n",
    "Brad_Pitt.drop_duplicates(subset=['primary_title'])"
   ]
  },
  {
   "cell_type": "code",
   "execution_count": null,
   "id": "97fa4b2d",
   "metadata": {},
   "outputs": [],
   "source": []
  }
 ],
 "metadata": {
  "kernelspec": {
   "display_name": "Python 3 (ipykernel)",
   "language": "python",
   "name": "python3"
  },
  "language_info": {
   "codemirror_mode": {
    "name": "ipython",
    "version": 3
   },
   "file_extension": ".py",
   "mimetype": "text/x-python",
   "name": "python",
   "nbconvert_exporter": "python",
   "pygments_lexer": "ipython3",
   "version": "3.9.13"
  }
 },
 "nbformat": 4,
 "nbformat_minor": 5
}
